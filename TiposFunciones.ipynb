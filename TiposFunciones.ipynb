{
  "nbformat": 4,
  "nbformat_minor": 2,
  "metadata": {
    "colab": {
      "name": "TiposFunciones.ipynb",
      "provenance": [],
      "authorship_tag": "ABX9TyP9P+vB7REGdlXFKE7qaJF3",
      "include_colab_link": true
    },
    "kernelspec": {
      "name": "python3",
      "display_name": "Python 3.7.9 64-bit"
    },
    "language_info": {
      "name": "python",
      "version": "3.7.9",
      "mimetype": "text/x-python",
      "codemirror_mode": {
        "name": "ipython",
        "version": 3
      },
      "pygments_lexer": "ipython3",
      "nbconvert_exporter": "python",
      "file_extension": ".py"
    },
    "interpreter": {
      "hash": "b9cd6eddfbd1a6b9ee0f978987cc25d0e10ce92ec79b57ca96da5ef1618e4090"
    }
  },
  "cells": [
    {
      "cell_type": "markdown",
      "source": [
        "<a href=\"https://colab.research.google.com/github/ElMaster961201/PythonTrabajandoconTiposdeFunciones/blob/main/TiposFunciones.ipynb\" target=\"_parent\"><img src=\"https://colab.research.google.com/assets/colab-badge.svg\" alt=\"Open In Colab\"/></a>"
      ],
      "metadata": {
        "id": "view-in-github",
        "colab_type": "text"
      }
    },
    {
      "cell_type": "markdown",
      "source": [
        "# Taller de Python\r\n"
      ],
      "metadata": {
        "id": "2N7udRBpBqEq"
      }
    },
    {
      "cell_type": "markdown",
      "source": [
        "Taller online para la comunidad de MCoder.ai y para la comunidad en general.\n",
        "En el presente taller mostraremos las principales funciones con las que se puede trabajar en Python y además haremos una pequeña analogía de dada una de ellas.\n"
      ],
      "metadata": {
        "id": "jbQNCOMwJo0s"
      }
    },
    {
      "cell_type": "markdown",
      "source": [
        "## Función básica.\r\n",
        "Como lo dice su nombre, esta función es la más básica de todas, no necesita de parámetros ni tampoco devuelve ningún valor.\r\n"
      ],
      "metadata": {
        "id": "Ed21BfVLLWbe"
      }
    },
    {
      "cell_type": "code",
      "execution_count": null,
      "source": [
        "def saludo():\r\n",
        "  print(\"Saludo desde la función.\")\r\n",
        "  pass\r\n",
        "print(\"Hola desde antes de la función.\")\r\n",
        "saludo()\r\n",
        "print(\"Hola después de la función.\")"
      ],
      "outputs": [],
      "metadata": {
        "id": "uPfaW3fKLtnk"
      }
    },
    {
      "cell_type": "markdown",
      "source": [
        "Paso de parámetros.\r\n",
        "Este tipo de funciones utiliza argumentos en su implementación. \r\n",
        "Los argumentos pueden ser del tipo:\r\n",
        "* Por valor.\r\n",
        "* Por referencia.\r\n"
      ],
      "metadata": {}
    },
    {
      "cell_type": "markdown",
      "source": [
        "### Por valor.\r\n",
        "Este tipo de funciones, los valores que son enviados no sufren ningún cambio o alteración en su valor original."
      ],
      "metadata": {}
    },
    {
      "cell_type": "code",
      "execution_count": null,
      "source": [
        "def funcionvalor(a , b):\r\n",
        "    print(a, b)\r\n",
        "    a = 5\r\n",
        "    b = 6\r\n",
        "    print(a, b)\r\n",
        "    pass\r\n",
        "a = 1\r\n",
        "b = 2\r\n",
        "print(a, b)\r\n",
        "funcionvalor(a,b)\r\n",
        "print(a, b)"
      ],
      "outputs": [],
      "metadata": {}
    },
    {
      "cell_type": "markdown",
      "source": [
        "### Por referencia.\r\n",
        "El paso de parámetros por referencia, las variables conservan el valor si son modificados dentro de la función."
      ],
      "metadata": {}
    },
    {
      "cell_type": "code",
      "execution_count": null,
      "source": [
        "def funcionreferencia(a):\r\n",
        "    print(a)\r\n",
        "    a[0] = 5\r\n",
        "    a[3] = 6\r\n",
        "    print(a)\r\n",
        "    pass\r\n",
        "a = [1,2,3,4,5]\r\n",
        "print(a)\r\n",
        "funcionreferencia(a)\r\n",
        "print(a)"
      ],
      "outputs": [],
      "metadata": {}
    },
    {
      "cell_type": "markdown",
      "source": [
        "### Curiosidad de asignaciones.\r\n",
        "Tener cuidado al hacer asignaciones de variables, porque si la variable es mutable (tipo lista) al asignarla a otra variable y esta alterarla su valor es alterado."
      ],
      "metadata": {}
    },
    {
      "cell_type": "code",
      "execution_count": null,
      "source": [
        "a = 3\r\n",
        "b = a\r\n",
        "print(\"a = \", a, \" b = \", b)\r\n",
        "b = 7\r\n",
        "print(\"a = \", a, \" b = \", b)\r\n"
      ],
      "outputs": [],
      "metadata": {}
    },
    {
      "cell_type": "markdown",
      "source": [
        "Pero si hacemos la siguiente asignación."
      ],
      "metadata": {}
    },
    {
      "cell_type": "code",
      "execution_count": null,
      "source": [
        "a = [1, 2]\r\n",
        "b = a\r\n",
        "print(\"a = \", a, \" b = \", b)\r\n",
        "b[0] = 7\r\n",
        "print(\"a = \", a, \" b = \", b)"
      ],
      "outputs": [],
      "metadata": {}
    },
    {
      "cell_type": "markdown",
      "source": [
        "## Retorno de valor.\r\n",
        "Si después de la ejecución de una función queremos recuperar uno o varios valores que genero la función lo podemos hacer simplemente agregando la palabra return {el o los valores a regresar de la función}\r\n"
      ],
      "metadata": {}
    },
    {
      "cell_type": "code",
      "execution_count": null,
      "source": [
        "def funcionretorno(a, b):\r\n",
        "    c = a + b \r\n",
        "    return c\r\n",
        "def funcionretornomuchos(a, b):\r\n",
        "    c = a + b\r\n",
        "    d = a - b \r\n",
        "    e = a * b\r\n",
        "    f = a / b\r\n",
        "    return c,d,e,f\r\n",
        "\r\n",
        "a = funcionretorno(4, 3) \r\n",
        "print(a)\r\n",
        "p, j, k, l = funcionretornomuchos(8, 4)\r\n",
        "print(p, j, k, l)\r\n",
        "operaciones = funcionretornomuchos(3, 6)\r\n",
        "print(operaciones)\r\n"
      ],
      "outputs": [],
      "metadata": {}
    },
    {
      "cell_type": "markdown",
      "source": [
        "## Valores por defecto.\r\n",
        "Es posible asignarle un valor por defecto a un parámetro de una función, por si en el caso no se le da valor a este parámetro en la llamada a la función, este parámetro tenga un valor.\r\n"
      ],
      "metadata": {}
    },
    {
      "cell_type": "code",
      "execution_count": null,
      "source": [
        "def funciondefecto1(a, b = 5):\r\n",
        "    print(a,b)\r\n",
        "    pass\r\n",
        "\r\n",
        "def funciondefecto2(a = 6, b = 5):\r\n",
        "    print(a,b)\r\n",
        "    pass\r\n",
        "\r\n",
        "funciondefecto1(4)\r\n",
        "funciondefecto2()"
      ],
      "outputs": [],
      "metadata": {}
    },
    {
      "cell_type": "markdown",
      "source": [
        "## Nombres en los parámetros.\r\n",
        "Python permite mandar directamente un valor a un parámetro de la función sin importar el orden de este en la llamada a la función.\r\n"
      ],
      "metadata": {}
    },
    {
      "cell_type": "code",
      "execution_count": null,
      "source": [
        "def funcionnombre(a, b, c):\r\n",
        "    print(\"a = \", a, \" b = \", b, \" c = \", c)\r\n",
        "    pass\r\n",
        "funcionnombre(1,2,3)\r\n",
        "funcionnombre(c = 3, a = 6, b = 5)\r\n",
        "funcionnombre(5, c = 9, b = 4)"
      ],
      "outputs": [],
      "metadata": {}
    },
    {
      "cell_type": "markdown",
      "source": [
        "### Número infinito de argumentos.\r\n",
        "Python nos permite crear funciones en la cual, el número de parámetros que le mandemos no está limitado.\r\n",
        "\r\n",
        "Para esto, se pueden hacer de dos maneras diferentes: \r\n",
        "* Tupla \r\n",
        "* Diccionario.\r\n",
        "### Tupla.\r\n",
        "Aquí solo se andan los elementos que se quieren utilizar en el vector."
      ],
      "metadata": {}
    },
    {
      "cell_type": "code",
      "execution_count": null,
      "source": [
        "def funcioninfinita(*arg):\r\n",
        "    l = len(arg)\r\n",
        "    for i in range(l):\r\n",
        "        print(arg[i])\r\n",
        "        pass\r\n",
        "    print()\r\n",
        "    for item in arg:\r\n",
        "        print(item)\r\n",
        "        pass\r\n",
        "    pass\r\n",
        "funcioninfinita()\r\n",
        "funcioninfinita(1,2,3)\r\n",
        "funcioninfinita(1,2,3,4,5,\"Hola\",\"Mundo\")\r\n",
        "funcioninfinita('H','O','L','A','M','U','N','D','O')"
      ],
      "outputs": [],
      "metadata": {}
    },
    {
      "cell_type": "markdown",
      "source": [
        "### Diccionario.\r\n",
        "Se manda los parámetros con los que se quiere trabajar en la función con su nombre de cada uno."
      ],
      "metadata": {}
    },
    {
      "cell_type": "code",
      "execution_count": null,
      "source": [
        "def funcioninfinita2(**arg):\r\n",
        "    print()\r\n",
        "    for key in arg:\r\n",
        "        print(key, \": \", arg[key])\r\n",
        "        pass\r\n",
        "    pass\r\n",
        "funcioninfinita2(Nombre = \"Jesus\")\r\n",
        "funcioninfinita2(Nombre = \"Jesus\", Apellido = \"Correa\")\r\n",
        "funcioninfinita2(Nombre = \"Jesus\", Apellido = \"Correa\", Color = \"Rojo\")"
      ],
      "outputs": [],
      "metadata": {}
    },
    {
      "cell_type": "markdown",
      "source": [
        "## Desempaquetado de argumentos.\r\n",
        "En una función que requiere varios parámetros, los podemos acomodar en una lista o tupla y se desempaquetan desde la llamada a la función.\r\n",
        "### Listas/Tuplas."
      ],
      "metadata": {}
    },
    {
      "cell_type": "code",
      "execution_count": null,
      "source": [
        "def funcionDes(a, b, c, d):\r\n",
        "    print(a, b, c, d)\r\n",
        "    pass\r\n",
        "\r\n",
        "parametros = [1, 2 , 3, 4]\r\n",
        "funcionDes(*parametros)\r\n",
        "\r\n",
        "parametros = [1, True , \"Hola Mundo\", 4]\r\n",
        "funcionDes(*parametros)\r\n",
        "\r\n",
        "parametros = [2.35, 'G' , False, \"Python\"]\r\n",
        "funcionDes(*parametros)\r\n"
      ],
      "outputs": [],
      "metadata": {}
    },
    {
      "cell_type": "markdown",
      "source": [
        "### Diccionarios."
      ],
      "metadata": {}
    },
    {
      "cell_type": "code",
      "execution_count": null,
      "source": [
        "def funcionDes(a, b, c, d):\r\n",
        "    print(a, b, c, d)\r\n",
        "    pass\r\n",
        "d = {'c': 5, 'a': 6, 'b': 8, 'd': 0}\r\n",
        "funcionDes(**d)"
      ],
      "outputs": [],
      "metadata": {}
    },
    {
      "cell_type": "markdown",
      "source": [
        "## Funciones con el mismo nombre.\r\n",
        "Son las funciones que tiene el mismo nombre, pero diferente número de argumentos, implementadas en lenguajes como C/C++ o Java, pero Python tiene un pequeño detalle tratando de manejar este tipo de funciones."
      ],
      "metadata": {}
    },
    {
      "cell_type": "code",
      "execution_count": null,
      "source": [
        "def mismonombre():\r\n",
        "    print (\"Hola Mundo\")\r\n",
        "    pass\r\n",
        "def mismonombre(a):\r\n",
        "    print(a)\r\n",
        "    pass\r\n",
        "def mismonombre(a, b):\r\n",
        "    c = a + b\r\n",
        "    print(c)\r\n",
        "    pass\r\n",
        "mismonombre()\r\n",
        "mismonombre(\"Hola\")\r\n",
        "mismonombre(5, 6)"
      ],
      "outputs": [],
      "metadata": {}
    },
    {
      "cell_type": "markdown",
      "source": [
        "## Funciones lambda.\r\n",
        "Son funciones anónimas que ejecutan una sentencia que no necesariamente ocupa parámetros y devuelve un valor.\r\n",
        "Estas funciones no pueden contener bubles y no se puede utilizar la palabra reservada **return** para devolver un valor.\r\n",
        "Su sintaxis es:\r\n",
        "**lambda <parámetros>: <expresión>**\r\n"
      ],
      "metadata": {}
    },
    {
      "cell_type": "code",
      "execution_count": null,
      "source": [
        "suma = lambda a, b : a + b\r\n",
        "print(suma(1,3))\r\n",
        "operaciones = [lambda a, b : a + b, lambda a, b : a - b, lambda a, b : a * b, lambda a, b : a / b]\r\n",
        "valor1 = 5\r\n",
        "valor2 = 8\r\n",
        "\r\n",
        "for op in operaciones:\r\n",
        "    print(op(valor1,valor2))\r\n",
        "    pass\r\n",
        "\r\n",
        "\r\n"
      ],
      "outputs": [],
      "metadata": {}
    },
    {
      "cell_type": "markdown",
      "source": [
        "## Tipos mutables con argumentos por defecto.\r\n",
        "Si a una función se le asigna un valor por defecto a un parámetro de tipo lista, esto es lo que puede suceder."
      ],
      "metadata": {}
    },
    {
      "cell_type": "code",
      "execution_count": null,
      "source": [
        "def fun(x = 1, li = []):\r\n",
        "    li.append(x)\r\n",
        "    print(li)\r\n",
        "    pass\r\n",
        "\r\n",
        "fun()\r\n",
        "fun()\r\n",
        "fun()\r\n",
        "fun(5)\r\n",
        "fun(6)\r\n",
        "fun(9)"
      ],
      "outputs": [],
      "metadata": {}
    },
    {
      "cell_type": "markdown",
      "source": [
        "Pero si cada vez que se llame a la función nos aseguramos que la lista este vacía."
      ],
      "metadata": {}
    },
    {
      "cell_type": "code",
      "execution_count": null,
      "source": [
        "def fun(x = 1, li = None):\r\n",
        "    if li is None:\r\n",
        "        li = []\r\n",
        "    li.append(x)\r\n",
        "    print(li)\r\n",
        "    pass\r\n",
        "\r\n",
        "fun()\r\n",
        "fun()\r\n",
        "fun()\r\n",
        "fun(5)\r\n",
        "fun(6)\r\n",
        "fun(9)\r\n",
        "lis = [5, 6, 3]\r\n",
        "fun(8,lis) "
      ],
      "outputs": [],
      "metadata": {}
    }
  ]
}
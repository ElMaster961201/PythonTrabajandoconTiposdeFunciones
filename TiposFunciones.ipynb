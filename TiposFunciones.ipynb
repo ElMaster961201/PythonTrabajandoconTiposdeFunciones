{
  "nbformat": 4,
  "nbformat_minor": 0,
  "metadata": {
    "colab": {
      "name": "TiposFunciones.ipynb",
      "provenance": [],
      "authorship_tag": "ABX9TyP9P+vB7REGdlXFKE7qaJF3",
      "include_colab_link": true
    },
    "kernelspec": {
      "name": "python3",
      "display_name": "Python 3"
    },
    "language_info": {
      "name": "python"
    }
  },
  "cells": [
    {
      "cell_type": "markdown",
      "metadata": {
        "id": "view-in-github",
        "colab_type": "text"
      },
      "source": [
        "<a href=\"https://colab.research.google.com/github/ElMaster961201/PythonTrabajandoconTiposdeFunciones/blob/main/TiposFunciones.ipynb\" target=\"_parent\"><img src=\"https://colab.research.google.com/assets/colab-badge.svg\" alt=\"Open In Colab\"/></a>"
      ]
    },
    {
      "cell_type": "markdown",
      "metadata": {
        "id": "2N7udRBpBqEq"
      },
      "source": [
        "#Taller de Python\n"
      ]
    },
    {
      "cell_type": "markdown",
      "metadata": {
        "id": "jbQNCOMwJo0s"
      },
      "source": [
        "Taller online para la comunidad de MCoder.ai y para la comunidad en general.\n",
        "En el presente taller mostraremos las principales funciones con las que se puede trabajar en Python y además haremos una pequeña analogía de dada una de ellas.\n"
      ]
    },
    {
      "cell_type": "markdown",
      "metadata": {
        "id": "Ed21BfVLLWbe"
      },
      "source": [
        "## Función básica.\n",
        "Como lo dice su nombre, esta función es la más básica de todas, no necesita de parámetros ni tampoco devuelve ningún valor.\n"
      ]
    },
    {
      "cell_type": "code",
      "metadata": {
        "id": "uPfaW3fKLtnk"
      },
      "source": [
        "def saludo():\n",
        "  print(\"Saludo desde la función.\")\n",
        "  pass\n",
        "print(\"Hola desde antes de la función.\")\n",
        "saludo()\n",
        "print(\"Hola después de la función.\")"
      ],
      "execution_count": null,
      "outputs": []
    },
    {
      "cell_type": "markdown",
      "metadata": {
        "id": "4mtybGZ_NSHm"
      },
      "source": [
        ""
      ]
    }
  ]
}
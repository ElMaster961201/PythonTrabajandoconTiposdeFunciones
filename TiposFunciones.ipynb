{
  "nbformat": 4,
  "nbformat_minor": 0,
  "metadata": {
    "colab": {
      "name": "TiposFunciones.ipynb",
      "provenance": [],
      "authorship_tag": "ABX9TyM2S3v5swrw6RdSsezM6LmI",
      "include_colab_link": true
    },
    "kernelspec": {
      "name": "python3",
      "display_name": "Python 3"
    },
    "language_info": {
      "name": "python"
    }
  },
  "cells": [
    {
      "cell_type": "markdown",
      "metadata": {
        "id": "view-in-github",
        "colab_type": "text"
      },
      "source": [
        "<a href=\"https://colab.research.google.com/github/ElMaster961201/PythonTrabajandoconTiposdeFunciones/blob/main/TiposFunciones.ipynb\" target=\"_parent\"><img src=\"https://colab.research.google.com/assets/colab-badge.svg\" alt=\"Open In Colab\"/></a>"
      ]
    },
    {
      "cell_type": "markdown",
      "metadata": {
        "id": "2N7udRBpBqEq"
      },
      "source": [
        "#Taller de Python\n"
      ]
    },
    {
      "cell_type": "markdown",
      "metadata": {
        "id": "jbQNCOMwJo0s"
      },
      "source": [
        "Taller online para la comunidad de MCoder.ai y para la comunidad en general.\n",
        "En el presente taller mostraremos las principales funciones con las que se puede trabajar en Python y además haremos una pequeña analogía de dada una de ellas.\n"
      ]
    }
  ]
}